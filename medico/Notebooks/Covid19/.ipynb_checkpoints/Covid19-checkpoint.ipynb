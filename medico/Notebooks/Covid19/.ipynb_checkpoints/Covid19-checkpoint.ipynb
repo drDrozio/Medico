{
 "cells": [
  {
   "cell_type": "code",
   "execution_count": 2,
   "metadata": {
    "colab": {
     "base_uri": "https://localhost:8080/"
    },
    "id": "U6mymrpxoUYc",
    "outputId": "478b5d01-a81a-48d3-d5b6-14b184c92f27"
   },
   "outputs": [
    {
     "name": "stdout",
     "output_type": "stream",
     "text": [
      "--2020-12-21 11:25:05--  http://cb.lk/covid_19\n",
      "Resolving cb.lk (cb.lk)... 159.89.170.74\n",
      "Connecting to cb.lk (cb.lk)|159.89.170.74|:80... connected.\n",
      "HTTP request sent, awaiting response... 301 Moved Permanently\n",
      "Location: https://cb.lk/covid_19 [following]\n",
      "--2020-12-21 11:25:05--  https://cb.lk/covid_19\n",
      "Connecting to cb.lk (cb.lk)|159.89.170.74|:443... connected.\n",
      "HTTP request sent, awaiting response... 302 Found\n",
      "Location: https://www.dropbox.com/s/7rjw6oet4za01op/CovidDataset-20200427T133042Z-001.zip?dl=0 [following]\n",
      "--2020-12-21 11:25:06--  https://www.dropbox.com/s/7rjw6oet4za01op/CovidDataset-20200427T133042Z-001.zip?dl=0\n",
      "Resolving www.dropbox.com (www.dropbox.com)... 162.125.82.18, 2620:100:6032:18::a27d:5212\n",
      "Connecting to www.dropbox.com (www.dropbox.com)|162.125.82.18|:443... connected.\n",
      "HTTP request sent, awaiting response... 301 Moved Permanently\n",
      "Location: /s/raw/7rjw6oet4za01op/CovidDataset-20200427T133042Z-001.zip [following]\n",
      "--2020-12-21 11:25:06--  https://www.dropbox.com/s/raw/7rjw6oet4za01op/CovidDataset-20200427T133042Z-001.zip\n",
      "Reusing existing connection to www.dropbox.com:443.\n",
      "HTTP request sent, awaiting response... 302 Found\n",
      "Location: https://uc9293b9a28d23935e5ebd016c76.dl.dropboxusercontent.com/cd/0/inline/BFfzc_RwpF_fiGh_iLIW8cUbYSqVO97Il3rROAyh6JDu0Hycr8srZTGww0V8og3zMT0mKxX_hj4EV1ee9qGWy4xepc81NhxsAtiSZyOwavLSQ_Zx2mcEMP82bQmr2jY8kDI/file# [following]\n",
      "--2020-12-21 11:25:07--  https://uc9293b9a28d23935e5ebd016c76.dl.dropboxusercontent.com/cd/0/inline/BFfzc_RwpF_fiGh_iLIW8cUbYSqVO97Il3rROAyh6JDu0Hycr8srZTGww0V8og3zMT0mKxX_hj4EV1ee9qGWy4xepc81NhxsAtiSZyOwavLSQ_Zx2mcEMP82bQmr2jY8kDI/file\n",
      "Resolving uc9293b9a28d23935e5ebd016c76.dl.dropboxusercontent.com (uc9293b9a28d23935e5ebd016c76.dl.dropboxusercontent.com)... 162.125.82.15, 2620:100:6032:15::a27d:520f\n",
      "Connecting to uc9293b9a28d23935e5ebd016c76.dl.dropboxusercontent.com (uc9293b9a28d23935e5ebd016c76.dl.dropboxusercontent.com)|162.125.82.15|:443... connected.\n",
      "HTTP request sent, awaiting response... 302 Found\n",
      "Location: /cd/0/inline2/BFceTEKuXZ3afCmykGhpOmDsJHApr6jdqJ26sTYhAQE4KYuMgOqzUkiRst_88d2dF55En9a8VarvM5vYILohPV3WRJQ3uBkf6hoerXbU0CqqXwv8wcJnM4KyJlxZLEtQl-goJE3TyLAQdzLpjIr1D2bqSvopwJmY4bxms0QPcpEnyes56nsiPrD2-UD4PFIQWeKTRAgs0sXCQILXg-Sg8TW5FTSzMLZ2ir0ZvWFotyBINj-uEa79RR3Dsn0xVuSRnuxl7glu4_RW_IJURMBkHX7Q9U26f2uKdqYEfwnrlEb5l8W5NJHq0LqQNAoUjjQpsjT0tyQW9rr2fRdArhUrRDZ7HWlDrymxH_KnWWzDgQ0oIQ/file [following]\n",
      "--2020-12-21 11:25:07--  https://uc9293b9a28d23935e5ebd016c76.dl.dropboxusercontent.com/cd/0/inline2/BFceTEKuXZ3afCmykGhpOmDsJHApr6jdqJ26sTYhAQE4KYuMgOqzUkiRst_88d2dF55En9a8VarvM5vYILohPV3WRJQ3uBkf6hoerXbU0CqqXwv8wcJnM4KyJlxZLEtQl-goJE3TyLAQdzLpjIr1D2bqSvopwJmY4bxms0QPcpEnyes56nsiPrD2-UD4PFIQWeKTRAgs0sXCQILXg-Sg8TW5FTSzMLZ2ir0ZvWFotyBINj-uEa79RR3Dsn0xVuSRnuxl7glu4_RW_IJURMBkHX7Q9U26f2uKdqYEfwnrlEb5l8W5NJHq0LqQNAoUjjQpsjT0tyQW9rr2fRdArhUrRDZ7HWlDrymxH_KnWWzDgQ0oIQ/file\n",
      "Reusing existing connection to uc9293b9a28d23935e5ebd016c76.dl.dropboxusercontent.com:443.\n",
      "HTTP request sent, awaiting response... 200 OK\n",
      "Length: 140830621 (134M) [application/zip]\n",
      "Saving to: ‘covid_19.1’\n",
      "\n",
      "covid_19.1          100%[===================>] 134.31M  16.3MB/s    in 9.1s    \n",
      "\n",
      "2020-12-21 11:25:17 (14.7 MB/s) - ‘covid_19.1’ saved [140830621/140830621]\n",
      "\n"
     ]
    }
   ],
   "source": [
    "!wget http://cb.lk/covid_19"
   ]
  },
  {
   "cell_type": "code",
   "execution_count": null,
   "metadata": {
    "colab": {
     "base_uri": "https://localhost:8080/"
    },
    "id": "sDhwuaPXp1A1",
    "outputId": "d79eb66c-e69e-441e-ffed-0285c803423f"
   },
   "outputs": [
    {
     "name": "stdout",
     "output_type": "stream",
     "text": [
      "Mounted at /content/gdrive\n"
     ]
    }
   ],
   "source": [
    "from google.colab import drive\n",
    "\n",
    "drive.mount(\"/content/gdrive\")"
   ]
  },
  {
   "cell_type": "code",
   "execution_count": 4,
   "metadata": {
    "colab": {
     "base_uri": "https://localhost:8080/"
    },
    "id": "gXNyhzCCp4_D",
    "outputId": "0dd620cc-2cfd-4240-bb2b-6d7882e73afe"
   },
   "outputs": [
    {
     "name": "stdout",
     "output_type": "stream",
     "text": [
      "Archive:  covid_19.1\n",
      "  inflating: CovidDataset/Val/Covid/88de9d8c39e946abd495b37cd07d89e5-6531-0.jpg  \n",
      "  inflating: CovidDataset/Val/Covid/covid-19-pneumonia-8.jpg  \n",
      "  inflating: CovidDataset/Val/Covid/85E52EB3-56E9-4D67-82DA-DEA247C82886.jpeg  \n",
      "  inflating: CovidDataset/Val/Covid/4-x-day1.jpg  \n",
      "  inflating: CovidDataset/Val/Covid/covid-19-pneumonia-53.jpg  \n",
      "  inflating: CovidDataset/Val/Covid/4e43e48d52c9e2d4c6c1fb9bc1544f_jumbo.jpeg  \n",
      "  inflating: CovidDataset/Val/Covid/covid-19-pneumonia-35-1.jpg  \n",
      "  inflating: CovidDataset/Val/Covid/53EC07C9-5CC6-4BE4-9B6F-D7B0D72AAA7E.jpeg  \n",
      "  inflating: CovidDataset/Val/Covid/6CB4EFC6-68FA-4CD5-940C-BEFA8DAFE9A7.jpeg  \n",
      "  inflating: CovidDataset/Val/Covid/58cb9263f16e94305c730685358e4e_jumbo.jpeg  \n",
      "  inflating: CovidDataset/Val/Covid/6b3bdbc31f65230b8cdcc3cef5f8ba8a-40ac-0.jpg  \n",
      "  inflating: CovidDataset/Val/Covid/auntminnie-d-2020_01_28_23_51_6665_2020_01_28_Vietnam_coronavirus.jpeg  \n",
      "  inflating: CovidDataset/Val/Covid/6b44464d-73a7-4cf3-bbb6-ffe7168300e3.annot.original.jpeg  \n",
      "  inflating: CovidDataset/Val/Covid/88de9d8c39e946abd495b37cd07d89e5-2ee6-0.jpg  \n",
      "  inflating: CovidDataset/Val/Covid/31BA3780-2323-493F-8AED-62081B9C383B.jpeg  \n",
      "  inflating: CovidDataset/Val/Covid/B2D20576-00B7-4519-A415-72DE29C90C34.jpeg  \n",
      "  inflating: CovidDataset/Val/Covid/6C94A287-C059-46A0-8600-AFB95F4727B7.jpeg  \n",
      "  inflating: CovidDataset/Train/Covid/1-s2.0-S1684118220300682-main.pdf-003-b2.png  \n",
      "  inflating: CovidDataset/Val/Covid/41591_2020_819_Fig1_HTML.webp-day5.png  \n",
      "  inflating: CovidDataset/Val/Covid/41591_2020_819_Fig1_HTML.webp-day10.png  \n",
      "  inflating: CovidDataset/Train/Covid/1-s2.0-S1684118220300682-main.pdf-003-b1.png  \n",
      "  inflating: CovidDataset/Val/Covid/16654_2_1.jpg  \n",
      "  inflating: CovidDataset/Train/Covid/nCoV-radiol.2020200269.fig1-day7.jpeg  \n",
      "  inflating: CovidDataset/Val/Covid/auntminnie-c-2020_01_28_23_51_6665_2020_01_28_Vietnam_coronavirus.jpeg  \n",
      "  inflating: CovidDataset/Train/Covid/7-fatal-covid19.jpg  \n",
      "  inflating: CovidDataset/Train/Covid/auntminnie-b-2020_01_28_23_51_6665_2020_01_28_Vietnam_coronavirus.jpeg  \n",
      "  inflating: CovidDataset/Train/Normal/NORMAL2-IM-0986-0001.jpeg  \n",
      "  inflating: CovidDataset/Train/Normal/IM-0332-0001.jpeg  \n",
      "  inflating: CovidDataset/Train/Covid/extubation-13.jpg  \n",
      "  inflating: CovidDataset/Val/Covid/covid-19-pneumonia-35-2.jpg  \n",
      "  inflating: CovidDataset/Train/Normal/NORMAL2-IM-1337-0001.jpeg  \n",
      "  inflating: CovidDataset/Val/Covid/covid-19-pneumonia-12.jpg  \n",
      "  inflating: CovidDataset/Train/Normal/IM-0644-0001-0002.jpeg  \n",
      "  inflating: CovidDataset/Train/Covid/ryct.2020200034.fig5-day7.jpeg  \n",
      "  inflating: CovidDataset/Val/Covid/7AF6C1AF-D249-4BD2-8C26-449304105D03.jpeg  \n",
      "  inflating: CovidDataset/Train/Covid/covid-19-pneumonia-15-PA.jpg  \n",
      "  inflating: CovidDataset/Train/Covid/1-s2.0-S1684118220300608-main.pdf-002.jpg  \n",
      "  inflating: CovidDataset/Train/Normal/IM-0528-0001.jpeg  \n",
      "  inflating: CovidDataset/Train/Covid/80446565-E090-4187-A031-9D3CEAA586C8.jpeg  \n",
      "  inflating: CovidDataset/Train/Covid/1-s2.0-S0929664620300449-gr2_lrg-d.jpg  \n",
      "  inflating: CovidDataset/Train/Covid/covid-19-pneumonia-bilateral.jpg  \n",
      "  inflating: CovidDataset/Train/Normal/NORMAL2-IM-1020-0001-0001.jpeg  \n",
      "  inflating: CovidDataset/Train/Covid/E63574A7-4188-4C8D-8D17-9D67A18A1AFA.jpeg  \n",
      "  inflating: CovidDataset/Train/Normal/IM-0327-0001.jpeg  \n",
      "  inflating: CovidDataset/Train/Covid/AR-1.jpg  \n",
      "  inflating: CovidDataset/Train/Covid/F2DE909F-E19C-4900-92F5-8F435B031AC6.jpeg  \n",
      "  inflating: CovidDataset/Val/Normal/NORMAL2-IM-0851-0001.jpeg  \n",
      "  inflating: CovidDataset/Train/Covid/covid-19-pneumonia-2.jpg  \n",
      "  inflating: CovidDataset/Train/Normal/IM-0539-0001.jpeg  \n",
      "  inflating: CovidDataset/Train/Normal/IM-0495-0001.jpeg  \n",
      "  inflating: CovidDataset/Train/Normal/IM-0533-0001-0002.jpeg  \n",
      "  inflating: CovidDataset/Train/Normal/IM-0724-0001.jpeg  \n",
      "  inflating: CovidDataset/Train/Covid/1.CXRCTThoraximagesofCOVID-19fromSingapore.pdf-001-fig2a.png  \n",
      "  inflating: CovidDataset/Train/Covid/1-s2.0-S0140673620303706-fx1_lrg.jpg  \n",
      "  inflating: CovidDataset/Train/Normal/IM-0491-0001-0002.jpeg  \n",
      "  inflating: CovidDataset/Train/Covid/covid-19-pneumonia-58-day-9.jpg  \n",
      "  inflating: CovidDataset/Train/Normal/IM-0555-0001.jpeg  \n",
      "  inflating: CovidDataset/Train/Covid/1.CXRCTThoraximagesofCOVID-19fromSingapore.pdf-000-fig1b.png  \n",
      "  inflating: CovidDataset/Train/Normal/IM-0326-0001.jpeg  \n",
      "  inflating: CovidDataset/Train/Covid/covid-19-caso-70-1-PA.jpg  \n",
      "  inflating: CovidDataset/Train/Covid/1.CXRCTThoraximagesofCOVID-19fromSingapore.pdf-001-fig2b.png  \n",
      "  inflating: CovidDataset/Val/Normal/NORMAL2-IM-0730-0001.jpeg  \n",
      "  inflating: CovidDataset/Train/Normal/IM-0451-0001.jpeg  \n",
      "  inflating: CovidDataset/Val/Covid/7C69C012-7479-493F-8722-ABC29C60A2DD.jpeg  \n",
      "  inflating: CovidDataset/Train/Covid/16660_2_1.jpg  \n",
      "  inflating: CovidDataset/Train/Covid/1-s2.0-S1684118220300608-main.pdf-001.jpg  \n",
      "  inflating: CovidDataset/Train/Covid/kjr-21-e24-g003-l-a.jpg  \n",
      "  inflating: CovidDataset/Train/Covid/nejmoa2001191_f1-PA.jpeg  \n",
      "  inflating: CovidDataset/Train/Normal/IM-0534-0001.jpeg  \n",
      "  inflating: CovidDataset/Train/Covid/kjr-21-e24-g002-l-a.jpg  \n",
      "  inflating: CovidDataset/Train/Covid/covid-19-pneumonia-38-pa.jpg  \n",
      "  inflating: CovidDataset/Train/Normal/NORMAL2-IM-0529-0001.jpeg  \n",
      "  inflating: CovidDataset/Train/Covid/9C34AF49-E589-44D5-92D3-168B3B04E4A6.jpeg  \n",
      "  inflating: CovidDataset/Train/Normal/IM-0221-0001.jpeg  \n",
      "  inflating: CovidDataset/Val/Normal/NORMAL2-IM-1191-0001.jpeg  \n",
      "  inflating: CovidDataset/Train/Normal/NORMAL2-IM-0831-0001.jpeg  \n",
      "  inflating: CovidDataset/Train/Normal/IM-0500-0001.jpeg  \n",
      "  inflating: CovidDataset/Val/Normal/NORMAL2-IM-1228-0001.jpeg  \n",
      "  inflating: CovidDataset/Train/Covid/extubation-1.jpg  \n",
      "  inflating: CovidDataset/Train/Covid/covid-19-infection-exclusive-gastrointestinal-symptoms-l.png  \n",
      "  inflating: CovidDataset/Val/Normal/NORMAL2-IM-1037-0001.jpeg  \n",
      "  inflating: CovidDataset/Train/Normal/NORMAL2-IM-0956-0001.jpeg  \n",
      "  inflating: CovidDataset/Train/Normal/NORMAL2-IM-0847-0001.jpeg  \n",
      "  inflating: CovidDataset/Train/Normal/IM-0389-0001.jpeg  \n",
      "  inflating: CovidDataset/Train/Normal/IM-0660-0001-0001.jpeg  \n",
      "  inflating: CovidDataset/Train/Covid/16672_1_1.jpg  \n",
      "  inflating: CovidDataset/Train/Normal/IM-0700-0001.jpeg  \n",
      "  inflating: CovidDataset/Train/Normal/NORMAL2-IM-1305-0001.jpeg  \n",
      "  inflating: CovidDataset/Train/Covid/16660_4_1.jpg  \n",
      "  inflating: CovidDataset/Val/Covid/353889E0-A1E8-4F9E-A0B8-F24F36BCFBFB.jpeg  \n",
      "  inflating: CovidDataset/Train/Covid/covid-19-pneumonia-22-day2-pa.png  \n",
      "  inflating: CovidDataset/Train/Normal/IM-0472-0001.jpeg  \n",
      "  inflating: CovidDataset/Train/Normal/NORMAL2-IM-1202-0001.jpeg  \n",
      "  inflating: CovidDataset/Train/Normal/NORMAL2-IM-1188-0001.jpeg  \n",
      "  inflating: CovidDataset/Train/Covid/2C26F453-AF3B-4517-BB9E-802CF2179543.jpeg  \n",
      "  inflating: CovidDataset/Train/Normal/NORMAL2-IM-1290-0001.jpeg  \n",
      "  inflating: CovidDataset/Train/Normal/NORMAL2-IM-1346-0001.jpeg  \n",
      "  inflating: CovidDataset/Train/Normal/NORMAL2-IM-1345-0001-0001.jpeg  \n",
      "  inflating: CovidDataset/Train/Covid/radiol.2020200274.fig3d.png  \n",
      "  inflating: CovidDataset/Train/Normal/IM-0669-0001.jpeg  \n",
      "  inflating: CovidDataset/Train/Normal/IM-0270-0001.jpeg  \n",
      "  inflating: CovidDataset/Train/Covid/covid-19-pneumonia-28.png  \n",
      "  inflating: CovidDataset/Train/Covid/ryct.2020200034.fig2.jpeg  \n",
      "  inflating: CovidDataset/Train/Normal/NORMAL2-IM-1287-0001.jpeg  \n",
      "  inflating: CovidDataset/Train/Covid/1.CXRCTThoraximagesofCOVID-19fromSingapore.pdf-000-fig1a.png  \n",
      "  inflating: CovidDataset/Train/Normal/NORMAL2-IM-0626-0001.jpeg  \n",
      "  inflating: CovidDataset/Train/Normal/IM-0543-0001.jpeg  \n",
      "  inflating: CovidDataset/Val/Normal/NORMAL2-IM-0857-0001.jpeg  \n",
      "  inflating: CovidDataset/Val/Normal/NORMAL2-IM-0905-0001.jpeg  \n",
      "  inflating: CovidDataset/Train/Covid/1-s2.0-S0929664620300449-gr2_lrg-a.jpg  \n",
      "  inflating: CovidDataset/Val/Covid/16654_1_1.png  \n",
      "  inflating: CovidDataset/Train/Covid/kjr-21-e24-g001-l-a.jpg  \n",
      "  inflating: CovidDataset/Train/Normal/IM-0433-0001.jpeg  \n",
      "  inflating: CovidDataset/Train/Covid/covid-19-pneumonia-58-day-10.jpg  \n",
      "  inflating: CovidDataset/Val/Covid/16654_4_1.jpg  \n",
      "  inflating: CovidDataset/Val/Normal/NORMAL2-IM-0790-0001.jpeg  \n",
      "  inflating: CovidDataset/Train/Normal/NORMAL2-IM-1326-0001.jpeg  \n",
      "  inflating: CovidDataset/Train/Normal/IM-0563-0001.jpeg  \n",
      "  inflating: CovidDataset/Train/Covid/ae6c954c0039de4b5edee53865ffee43-e6c8-0.jpg  \n",
      "  inflating: CovidDataset/Val/Covid/23E99E2E-447C-46E5-8EB2-D35D12473C39.png  \n",
      "  inflating: CovidDataset/Train/Covid/gr1_lrg-a.jpg  \n",
      "  inflating: CovidDataset/Train/Normal/IM-0564-0001.jpeg  \n",
      "  inflating: CovidDataset/Train/Normal/NORMAL2-IM-0499-0001.jpeg  \n",
      "  inflating: CovidDataset/Train/Covid/16663_1_1.jpg  \n",
      "  inflating: CovidDataset/Train/Covid/extubation-8.jpg  \n",
      "  inflating: CovidDataset/Train/Covid/paving.jpg  \n",
      "  inflating: CovidDataset/Train/Normal/IM-0529-0001.jpeg  \n",
      "  inflating: CovidDataset/Train/Normal/IM-0425-0001.jpeg  \n",
      "  inflating: CovidDataset/Train/Normal/IM-0439-0001.jpeg  \n",
      "  inflating: CovidDataset/Train/Normal/IM-0491-0001.jpeg  \n",
      "  inflating: CovidDataset/Train/Normal/IM-0337-0001.jpeg  \n",
      "  inflating: CovidDataset/Train/Covid/all14238-fig-0001-m-b.jpg  \n",
      "  inflating: CovidDataset/Train/Covid/covid-19-infection-exclusive-gastrointestinal-symptoms-pa.png  \n",
      "  inflating: CovidDataset/Train/Normal/NORMAL2-IM-1320-0001.jpeg  \n",
      "  inflating: CovidDataset/Train/Covid/1.CXRCTThoraximagesofCOVID-19fromSingapore.pdf-002-fig3b.png  \n",
      "  inflating: CovidDataset/Train/Normal/NORMAL2-IM-0815-0001.jpeg  \n",
      "  inflating: CovidDataset/Train/Covid/nejmoa2001191_f5-PA.jpeg  \n",
      "  inflating: CovidDataset/Train/Normal/NORMAL2-IM-1336-0001.jpeg  \n",
      "  inflating: CovidDataset/Train/Normal/IM-0369-0001.jpeg  \n",
      "  inflating: CovidDataset/Train/Normal/NORMAL2-IM-1300-0001.jpeg  \n",
      "  inflating: CovidDataset/Train/Normal/NORMAL2-IM-1295-0001.jpeg  \n",
      "  inflating: CovidDataset/Train/Normal/NORMAL2-IM-0518-0001.jpeg  \n",
      "  inflating: CovidDataset/Train/Covid/covid-19-pneumonia-34.png  \n",
      "  inflating: CovidDataset/Train/Normal/IM-0385-0001.jpeg  \n",
      "  inflating: CovidDataset/Train/Covid/F63AB6CE-1968-4154-A70F-913AF154F53D.jpeg  \n",
      "  inflating: CovidDataset/Val/Normal/NORMAL2-IM-0842-0001.jpeg  \n",
      "  inflating: CovidDataset/Val/Normal/NORMAL2-IM-0416-0001-0001.jpeg  \n",
      "  inflating: CovidDataset/Val/Normal/NORMAL2-IM-1275-0001.jpeg  \n",
      "  inflating: CovidDataset/Train/Normal/IM-0467-0001.jpeg  \n",
      "  inflating: CovidDataset/Train/Normal/NORMAL2-IM-1344-0001.jpeg  \n",
      "  inflating: CovidDataset/Train/Normal/IM-0301-0001.jpeg  \n",
      "  inflating: CovidDataset/Train/Normal/IM-0421-0001.jpeg  \n",
      "  inflating: CovidDataset/Train/Covid/ryct.2020200034.fig5-day0.jpeg  \n",
      "  inflating: CovidDataset/Train/Covid/covid-19-pneumonia-58-day-3.jpg  \n",
      "  inflating: CovidDataset/Train/Covid/covid-19-pneumonia-mild.JPG  \n",
      "  inflating: CovidDataset/Val/Normal/NORMAL2-IM-0859-0001.jpeg  \n",
      "  inflating: CovidDataset/Val/Normal/NORMAL2-IM-1237-0001.jpeg  \n",
      "  inflating: CovidDataset/Train/Normal/NORMAL2-IM-1103-0001-0001.jpeg  \n",
      "  inflating: CovidDataset/Train/Covid/1-s2.0-S1684118220300682-main.pdf-002-a2.png  \n",
      "  inflating: CovidDataset/Val/Normal/NORMAL2-IM-0535-0001-0002.jpeg  \n",
      "  inflating: CovidDataset/Train/Covid/1.CXRCTThoraximagesofCOVID-19fromSingapore.pdf-003-fig4b.png  \n",
      "  inflating: CovidDataset/Train/Normal/IM-0461-0001.jpeg  \n",
      "  inflating: CovidDataset/Train/Normal/IM-0372-0001.jpeg  \n",
      "  inflating: CovidDataset/Train/Normal/IM-0666-0001-0001.jpeg  \n",
      "  inflating: CovidDataset/Train/Normal/NORMAL2-IM-0840-0001.jpeg  \n",
      "  inflating: CovidDataset/Train/Covid/ryct.2020200034.fig5-day4.jpeg  \n",
      "  inflating: CovidDataset/Train/Normal/NORMAL2-IM-0798-0001.jpeg  \n",
      "  inflating: CovidDataset/Train/Normal/IM-0351-0001.jpeg  \n",
      "  inflating: CovidDataset/Train/Covid/auntminnie-a-2020_01_28_23_51_6665_2020_01_28_Vietnam_coronavirus.jpeg  \n",
      "  inflating: CovidDataset/Train/Covid/1-s2.0-S1684118220300682-main.pdf-002-a1.png  \n",
      "  inflating: CovidDataset/Val/Normal/NORMAL2-IM-1240-0001.jpeg  \n",
      "  inflating: CovidDataset/Train/Covid/93FE0BB1-022D-4F24-9727-987A07975FFB.jpeg  \n",
      "  inflating: CovidDataset/Train/Covid/16660_1_1.jpg  \n",
      "  inflating: CovidDataset/Train/Covid/figure1-5e71be566aa8714a04de3386-98-left.jpeg  \n",
      "  inflating: CovidDataset/Train/Normal/IM-0703-0001.jpeg  \n",
      "  inflating: CovidDataset/Train/Covid/covid-19-pneumonia-7-PA.jpg  \n",
      "  inflating: CovidDataset/Train/Normal/NORMAL2-IM-1277-0001-0002.jpeg  \n",
      "  inflating: CovidDataset/Train/Covid/8FDE8DBA-CFBD-4B4C-B1A4-6F36A93B7E87.jpeg  \n",
      "  inflating: CovidDataset/Train/Normal/IM-0482-0001.jpeg  \n",
      "  inflating: CovidDataset/Train/Normal/IM-0656-0001-0002.jpeg  \n",
      "  inflating: CovidDataset/Train/Covid/16664_1_1.jpg  \n",
      "  inflating: CovidDataset/Train/Normal/IM-0430-0001.jpeg  \n",
      "  inflating: CovidDataset/Train/Covid/covid-19-pneumonia-67.jpeg  \n",
      "  inflating: CovidDataset/Train/Covid/ciaa199.pdf-001-a.png  \n",
      "  inflating: CovidDataset/Train/Normal/IM-0187-0001.jpeg  \n",
      "  inflating: CovidDataset/Val/Normal/NORMAL2-IM-0652-0001.jpeg  \n",
      "  inflating: CovidDataset/Train/Normal/IM-0691-0001.jpeg  \n",
      "  inflating: CovidDataset/Train/Covid/CD50BA96-6982-4C80-AE7B-5F67ACDBFA56.jpeg  \n",
      "  inflating: CovidDataset/Train/Normal/NORMAL2-IM-0976-0001.jpeg  \n",
      "  inflating: CovidDataset/Train/Covid/covid-19-pneumonia-20-pa-on-admission.jpg  \n",
      "  inflating: CovidDataset/Train/Covid/1-s2.0-S0929664620300449-gr2_lrg-c.jpg  \n",
      "  inflating: CovidDataset/Train/Covid/fff49165-b22d-4bb4-b9d1-d5d62c52436c.annot.original.png  \n",
      "  inflating: CovidDataset/Train/Covid/1.CXRCTThoraximagesofCOVID-19fromSingapore.pdf-002-fig3a.png  \n",
      "  inflating: CovidDataset/Val/Normal/NORMAL2-IM-0395-0001.jpeg  \n",
      "  inflating: CovidDataset/Train/Normal/IM-0182-0001.jpeg  \n",
      "  inflating: CovidDataset/Train/Covid/covid-19-pneumonia-evolution-over-a-week-1-day0-PA.jpg  \n",
      "  inflating: CovidDataset/Val/Normal/NORMAL2-IM-0914-0001.jpeg  \n",
      "  inflating: CovidDataset/Train/Covid/covid-19-pneumonia-30-PA.jpg  \n",
      "  inflating: CovidDataset/Train/Covid/nejmc2001573_f1a.jpeg  \n",
      "  inflating: CovidDataset/Train/Covid/kjr-21-e25-g001-l-a.jpg  \n",
      "  inflating: CovidDataset/Val/Normal/NORMAL2-IM-0873-0001.jpeg  \n",
      "  inflating: CovidDataset/Train/Normal/NORMAL2-IM-0501-0001.jpeg  \n",
      "  inflating: CovidDataset/Train/Normal/IM-0667-0001.jpeg  \n",
      "  inflating: CovidDataset/Train/Normal/IM-0551-0001-0002.jpeg  \n",
      "  inflating: CovidDataset/Train/Normal/IM-0176-0001.jpeg  \n",
      "  inflating: CovidDataset/Train/Covid/lancet-case2b.jpg  \n",
      "  inflating: CovidDataset/Train/Normal/IM-0713-0001.jpeg  \n",
      "  inflating: CovidDataset/Train/Covid/all14238-fig-0001-m-c.jpg  \n",
      "  inflating: CovidDataset/Val/Covid/covid-19-pneumonia-14-PA.png  \n",
      "  inflating: CovidDataset/Val/Normal/NORMAL2-IM-0851-0001-0001.jpeg  \n",
      "  inflating: CovidDataset/Train/Normal/NORMAL2-IM-1154-0001-0002.jpeg  \n",
      "  inflating: CovidDataset/Train/Normal/IM-0619-0001.jpeg  \n",
      "  inflating: CovidDataset/Val/Normal/NORMAL2-IM-0441-0001.jpeg  \n",
      "  inflating: CovidDataset/Val/Normal/NORMAL2-IM-0765-0001.jpeg  \n",
      "  inflating: CovidDataset/Train/Normal/IM-0172-0001.jpeg  \n",
      "  inflating: CovidDataset/Train/Normal/IM-0551-0001-0001.jpeg  \n",
      "  inflating: CovidDataset/Train/Covid/gr1_lrg-b.jpg  \n",
      "  inflating: CovidDataset/Train/Covid/1-s2.0-S0929664620300449-gr2_lrg-b.jpg  \n",
      "  inflating: CovidDataset/Train/Normal/IM-0514-0001.jpeg  \n",
      "  inflating: CovidDataset/Train/Covid/covid-19-pneumonia-20.jpg  \n",
      "  inflating: CovidDataset/Train/Normal/IM-0544-0001.jpeg  \n",
      "  inflating: CovidDataset/Val/Normal/NORMAL2-IM-1022-0001.jpeg  \n",
      "  inflating: CovidDataset/Train/Normal/NORMAL2-IM-0935-0001.jpeg  \n",
      "  inflating: CovidDataset/Train/Covid/covid-19-pneumonia-22-day1-pa.png  \n",
      "  inflating: CovidDataset/Train/Normal/NORMAL2-IM-1288-0001.jpeg  \n",
      "  inflating: CovidDataset/Train/Covid/16669_1_1.jpeg  \n",
      "  inflating: CovidDataset/Train/Covid/nejmoa2001191_f4.jpeg  \n",
      "  inflating: CovidDataset/Val/Normal/NORMAL2-IM-0462-0001.jpeg  \n",
      "  inflating: CovidDataset/Val/Normal/NORMAL2-IM-0894-0001.jpeg  \n",
      "  inflating: CovidDataset/Train/Covid/nejmc2001573_f1b.jpeg  \n",
      "  inflating: CovidDataset/Train/Normal/NORMAL2-IM-1094-0001-0001.jpeg  \n",
      "  inflating: CovidDataset/Train/Normal/IM-0543-0001-0002.jpeg  \n",
      "  inflating: CovidDataset/Train/Covid/16669_3_1.jpeg  \n",
      "  inflating: CovidDataset/Train/Covid/covid-19-pneumonia-58-day-7.jpg  \n",
      "  inflating: CovidDataset/Train/Normal/IM-0536-0001.jpeg  \n",
      "  inflating: CovidDataset/Train/Normal/NORMAL2-IM-1214-0001.jpeg  \n",
      "  inflating: CovidDataset/Train/Covid/AR-2.jpg  \n",
      "  inflating: CovidDataset/Train/Covid/9fdd3c3032296fd04d2cad5d9070d4_jumbo.jpeg  \n",
      "  inflating: CovidDataset/Train/Covid/1B734A89-A1BF-49A8-A1D3-66FAFA4FAC5D.jpeg  \n",
      "  inflating: CovidDataset/Train/Normal/IM-0156-0001.jpeg  \n",
      "  inflating: CovidDataset/Train/Normal/NORMAL2-IM-1111-0001.jpeg  \n",
      "  inflating: CovidDataset/Train/Covid/FE9F9A5D-2830-46F9-851B-1FF4534959BE.jpeg  \n",
      "  inflating: CovidDataset/Train/Normal/IM-0429-0001.jpeg  \n",
      "  inflating: CovidDataset/Train/Covid/covid-19-pneumonia-44-day-0.jpeg  \n",
      "  inflating: CovidDataset/Val/Normal/NORMAL2-IM-0869-0001.jpeg  \n",
      "  inflating: CovidDataset/Train/Covid/figure1-5e75d0940b71e1b702629659-98-right.jpeg  \n",
      "  inflating: CovidDataset/Train/Covid/03BF7561-A9BA-4C3C-B8A0-D3E585F73F3C.jpeg  \n",
      "  inflating: CovidDataset/Train/Covid/ciaa199.pdf-001-c.png  \n",
      "  inflating: CovidDataset/Train/Covid/extubation-4.jpg  \n",
      "  inflating: CovidDataset/Train/Normal/IM-0556-0001.jpeg  \n",
      "  inflating: CovidDataset/Train/Covid/1.CXRCTThoraximagesofCOVID-19fromSingapore.pdf-003-fig4a.png  \n",
      "  inflating: CovidDataset/Train/Covid/covid-19-pneumonia-19.jpg  \n",
      "  inflating: CovidDataset/Train/Normal/IM-0392-0001.jpeg  \n",
      "  inflating: CovidDataset/Train/Normal/IM-0530-0001.jpeg  \n",
      "  inflating: CovidDataset/Train/Normal/IM-0261-0001.jpeg  \n",
      "  inflating: CovidDataset/Train/Covid/1312A392-67A3-4EBF-9319-810CF6DA5EF6.jpeg  \n",
      "  inflating: CovidDataset/Train/Normal/IM-0525-0001.jpeg  \n",
      "  inflating: CovidDataset/Train/Covid/lancet-case2a.jpg  \n",
      "  inflating: CovidDataset/Train/Covid/ciaa199.pdf-001-b.png  \n",
      "  inflating: CovidDataset/Train/Normal/NORMAL2-IM-0941-0001.jpeg  \n",
      "  inflating: CovidDataset/Train/Normal/IM-0488-0001.jpeg  \n",
      "  inflating: CovidDataset/Train/Covid/nejmoa2001191_f3-PA.jpeg  \n",
      "  inflating: CovidDataset/Train/Normal/IM-0447-0001.jpeg  \n",
      "  inflating: CovidDataset/Train/Covid/2966893D-5DDF-4B68-9E2B-4979D5956C8E.jpeg  \n",
      "  inflating: CovidDataset/Train/Covid/ryct.2020200028.fig1a.jpeg  \n",
      "  inflating: CovidDataset/Train/Normal/IM-0688-0001.jpeg  \n",
      "  inflating: CovidDataset/Train/Covid/16660_3_1.jpg  \n",
      "  inflating: CovidDataset/Val/Normal/NORMAL2-IM-1045-0001.jpeg  \n",
      "  inflating: CovidDataset/Train/Normal/NORMAL2-IM-0978-0001.jpeg  \n",
      "  inflating: CovidDataset/Train/Covid/2-chest-filmc.jpg  \n",
      "  inflating: CovidDataset/Val/Normal/NORMAL2-IM-0678-0001.jpeg  \n",
      "  inflating: CovidDataset/Train/Normal/NORMAL2-IM-0573-0001.jpeg  \n",
      "  inflating: CovidDataset/Train/Normal/IM-0365-0001.jpeg  \n",
      "  inflating: CovidDataset/Train/Normal/IM-0300-0001.jpeg  \n",
      "  inflating: CovidDataset/Train/Normal/IM-0242-0001.jpeg  \n",
      "  inflating: CovidDataset/Train/Covid/F4341CE7-73C9-45C6-99C8-8567A5484B63.jpeg  \n",
      "  inflating: CovidDataset/Train/Normal/NORMAL2-IM-1019-0001.jpeg  \n",
      "  inflating: CovidDataset/Train/Covid/01E392EE-69F9-4E33-BFCE-E5C968654078.jpeg  \n",
      "  inflating: CovidDataset/Train/Normal/IM-0648-0001.jpeg  \n",
      "  inflating: CovidDataset/Val/Normal/NORMAL2-IM-0408-0001.jpeg  \n",
      "  inflating: CovidDataset/Train/Covid/yxppt-2020-02-19_00-51-27_287214-day8.jpg  \n",
      "  inflating: CovidDataset/Train/Normal/IM-0635-0001.jpeg  \n",
      "  inflating: CovidDataset/Train/Covid/radiol.2020200490.fig3.jpeg  \n",
      "  inflating: CovidDataset/Val/Normal/NORMAL2-IM-1060-0001.jpeg  \n"
     ]
    }
   ],
   "source": [
    "!unzip covid_19.1"
   ]
  },
  {
   "cell_type": "code",
   "execution_count": 1,
   "metadata": {
    "id": "1r7zlRdhp5rh"
   },
   "outputs": [],
   "source": [
    "TRAIN_PATH = \"CovidDataset/Train\"\n",
    "VAL_PATH = \"CovidDataset/Test\"\n"
   ]
  },
  {
   "cell_type": "code",
   "execution_count": 4,
   "metadata": {
    "id": "ghMPqhDxp6tr"
   },
   "outputs": [],
   "source": [
    "import numpy as np\n",
    "import matplotlib.pyplot as plt\n",
    "import tensorflow.keras\n",
    "from tensorflow.keras.layers import *\n",
    "from tensorflow.keras.models import * \n",
    "from tensorflow.keras.preprocessing import image\n"
   ]
  },
  {
   "cell_type": "code",
   "execution_count": 6,
   "metadata": {
    "id": "mZ6VSX8_p7Rw"
   },
   "outputs": [],
   "source": [
    "model = Sequential()\n",
    "model.add(Conv2D(32,kernel_size=(3,3),activation='relu',input_shape=(224,224,3)))\n",
    "model.add(Conv2D(64,(3,3),activation='relu'))\n",
    "model.add(MaxPooling2D(pool_size=(2,2)))\n",
    "model.add(Dropout(0.25))\n",
    "\n",
    "model.add(Conv2D(64,(3,3),activation='relu'))\n",
    "model.add(MaxPooling2D(pool_size=(2,2)))\n",
    "model.add(Dropout(0.25))\n",
    "\n",
    "model.add(Conv2D(128,(3,3),activation='relu'))\n",
    "model.add(MaxPooling2D(pool_size=(2,2)))\n",
    "model.add(Dropout(0.25))\n",
    "\n",
    "model.add(Flatten())\n",
    "model.add(Dense(64,activation='relu'))\n",
    "model.add(Dropout(0.5))\n",
    "model.add(Dense(1,activation='sigmoid'))\n",
    "\n",
    "model.compile(loss=tensorflow.keras.losses.binary_crossentropy,optimizer='adam',metrics=['accuracy'])"
   ]
  },
  {
   "cell_type": "code",
   "execution_count": 7,
   "metadata": {
    "colab": {
     "base_uri": "https://localhost:8080/"
    },
    "id": "gROVoOBLp7h3",
    "outputId": "4d0d34ef-bcee-4437-fa68-2b68432b32c0"
   },
   "outputs": [
    {
     "name": "stdout",
     "output_type": "stream",
     "text": [
      "Model: \"sequential_1\"\n",
      "_________________________________________________________________\n",
      "Layer (type)                 Output Shape              Param #   \n",
      "=================================================================\n",
      "conv2d_4 (Conv2D)            (None, 222, 222, 32)      896       \n",
      "_________________________________________________________________\n",
      "conv2d_5 (Conv2D)            (None, 220, 220, 64)      18496     \n",
      "_________________________________________________________________\n",
      "max_pooling2d_3 (MaxPooling2 (None, 110, 110, 64)      0         \n",
      "_________________________________________________________________\n",
      "dropout_4 (Dropout)          (None, 110, 110, 64)      0         \n",
      "_________________________________________________________________\n",
      "conv2d_6 (Conv2D)            (None, 108, 108, 64)      36928     \n",
      "_________________________________________________________________\n",
      "max_pooling2d_4 (MaxPooling2 (None, 54, 54, 64)        0         \n",
      "_________________________________________________________________\n",
      "dropout_5 (Dropout)          (None, 54, 54, 64)        0         \n",
      "_________________________________________________________________\n",
      "conv2d_7 (Conv2D)            (None, 52, 52, 128)       73856     \n",
      "_________________________________________________________________\n",
      "max_pooling2d_5 (MaxPooling2 (None, 26, 26, 128)       0         \n",
      "_________________________________________________________________\n",
      "dropout_6 (Dropout)          (None, 26, 26, 128)       0         \n",
      "_________________________________________________________________\n",
      "flatten_1 (Flatten)          (None, 86528)             0         \n",
      "_________________________________________________________________\n",
      "dense_2 (Dense)              (None, 64)                5537856   \n",
      "_________________________________________________________________\n",
      "dropout_7 (Dropout)          (None, 64)                0         \n",
      "_________________________________________________________________\n",
      "dense_3 (Dense)              (None, 1)                 65        \n",
      "=================================================================\n",
      "Total params: 5,668,097\n",
      "Trainable params: 5,668,097\n",
      "Non-trainable params: 0\n",
      "_________________________________________________________________\n"
     ]
    }
   ],
   "source": [
    "model.summary()"
   ]
  },
  {
   "cell_type": "code",
   "execution_count": 8,
   "metadata": {
    "id": "bY9heEDSp7xt"
   },
   "outputs": [],
   "source": [
    "train_datagen = image.ImageDataGenerator(\n",
    "    rescale = 1./255,\n",
    "    shear_range = 0.2,\n",
    "    zoom_range = 0.2,\n",
    "    horizontal_flip = True,\n",
    ")\n",
    "\n",
    "test_dataset = image.ImageDataGenerator(rescale=1./255)"
   ]
  },
  {
   "cell_type": "code",
   "execution_count": 9,
   "metadata": {
    "colab": {
     "base_uri": "https://localhost:8080/"
    },
    "id": "0t5Q8sHT2xz5",
    "outputId": "dd12d0be-33cf-48a1-d8e6-438f155e8771"
   },
   "outputs": [
    {
     "name": "stdout",
     "output_type": "stream",
     "text": [
      "Found 224 images belonging to 2 classes.\n"
     ]
    }
   ],
   "source": [
    "train_generator = train_datagen.flow_from_directory(\n",
    "    'CovidDataset/Train',\n",
    "    target_size = (224,224),\n",
    "    batch_size = 32,\n",
    "    class_mode = 'binary')"
   ]
  },
  {
   "cell_type": "code",
   "execution_count": 10,
   "metadata": {
    "colab": {
     "base_uri": "https://localhost:8080/"
    },
    "id": "DMZ_z_eh2y9m",
    "outputId": "9251fb2f-327d-4855-912d-db630eb8c082"
   },
   "outputs": [
    {
     "data": {
      "text/plain": [
       "{'Covid': 0, 'Normal': 1}"
      ]
     },
     "execution_count": 10,
     "metadata": {},
     "output_type": "execute_result"
    }
   ],
   "source": [
    "train_generator.class_indices"
   ]
  },
  {
   "cell_type": "code",
   "execution_count": 11,
   "metadata": {
    "colab": {
     "base_uri": "https://localhost:8080/"
    },
    "id": "qtsSWpUq2zSp",
    "outputId": "637d022d-a0d8-4df5-8dd0-1a2b86625c84"
   },
   "outputs": [
    {
     "name": "stdout",
     "output_type": "stream",
     "text": [
      "Found 60 images belonging to 2 classes.\n"
     ]
    }
   ],
   "source": [
    "validation_generator = test_dataset.flow_from_directory(\n",
    "    'CovidDataset/Val',\n",
    "    target_size = (224,224),\n",
    "    batch_size = 32,\n",
    "    class_mode = 'binary')"
   ]
  },
  {
   "cell_type": "code",
   "execution_count": 12,
   "metadata": {
    "colab": {
     "base_uri": "https://localhost:8080/"
    },
    "id": "8KWFQ0xM2zh9",
    "outputId": "3f005e65-b041-4d5e-c289-d0f71ade6189"
   },
   "outputs": [
    {
     "name": "stdout",
     "output_type": "stream",
     "text": [
      "WARNING:tensorflow:From <ipython-input-12-e59c1f494e68>:1: Model.fit_generator (from tensorflow.python.keras.engine.training) is deprecated and will be removed in a future version.\n",
      "Instructions for updating:\n",
      "Please use Model.fit, which supports generators.\n",
      "Epoch 1/10\n",
      "7/7 [==============================] - 27s 4s/step - loss: 0.9759 - accuracy: 0.5179 - val_loss: 0.6869 - val_accuracy: 0.5000\n",
      "Epoch 2/10\n",
      "7/7 [==============================] - 28s 4s/step - loss: 0.6310 - accuracy: 0.6384 - val_loss: 0.5831 - val_accuracy: 0.8333\n",
      "Epoch 3/10\n",
      "7/7 [==============================] - 25s 4s/step - loss: 0.4955 - accuracy: 0.7768 - val_loss: 0.4744 - val_accuracy: 0.9500\n",
      "Epoch 4/10\n",
      "7/7 [==============================] - 25s 4s/step - loss: 0.3364 - accuracy: 0.8527 - val_loss: 0.3152 - val_accuracy: 0.9500\n",
      "Epoch 5/10\n",
      "7/7 [==============================] - 25s 4s/step - loss: 0.3500 - accuracy: 0.8571 - val_loss: 0.2930 - val_accuracy: 0.9500\n",
      "Epoch 6/10\n",
      "7/7 [==============================] - 28s 4s/step - loss: 0.2231 - accuracy: 0.9196 - val_loss: 0.1503 - val_accuracy: 0.9667\n",
      "Epoch 7/10\n",
      "7/7 [==============================] - 26s 4s/step - loss: 0.1606 - accuracy: 0.9464 - val_loss: 0.1736 - val_accuracy: 0.9833\n",
      "Epoch 8/10\n",
      "7/7 [==============================] - 26s 4s/step - loss: 0.1483 - accuracy: 0.9464 - val_loss: 0.0731 - val_accuracy: 0.9833\n",
      "Epoch 9/10\n",
      "7/7 [==============================] - 25s 4s/step - loss: 0.1782 - accuracy: 0.9375 - val_loss: 0.1389 - val_accuracy: 0.9833\n",
      "Epoch 10/10\n",
      "7/7 [==============================] - 26s 4s/step - loss: 0.1670 - accuracy: 0.9598 - val_loss: 0.0809 - val_accuracy: 0.9833\n"
     ]
    }
   ],
   "source": [
    "hist = model.fit_generator(\n",
    "    train_generator,\n",
    "    steps_per_epoch=7,\n",
    "    epochs = 10,\n",
    "    validation_data = validation_generator,\n",
    "    validation_steps=2\n",
    ")"
   ]
  },
  {
   "cell_type": "code",
   "execution_count": 13,
   "metadata": {
    "id": "wQ4Su-Gb2zvj"
   },
   "outputs": [],
   "source": [
    "model.save(\"modelcovid.h5\")"
   ]
  },
  {
   "cell_type": "code",
   "execution_count": 19,
   "metadata": {
    "colab": {
     "base_uri": "https://localhost:8080/"
    },
    "id": "XN6mE6txEnuP",
    "outputId": "7cab64d0-7a26-4e13-d725-6537730184c4"
   },
   "outputs": [
    {
     "name": "stdout",
     "output_type": "stream",
     "text": [
      "Drive already mounted at /content/drive; to attempt to forcibly remount, call drive.mount(\"/content/drive\", force_remount=True).\n"
     ]
    }
   ],
   "source": [
    "from google.colab import drive\n",
    "drive.mount('/content/drive')"
   ]
  },
  {
   "cell_type": "code",
   "execution_count": 26,
   "metadata": {
    "id": "JLAF8sEWGFAF"
   },
   "outputs": [],
   "source": [
    "model_save_name = 'modelcovid.h5'\n",
    "path = F\"/content/gdrive/My Drive/{model_save_name}\" \n",
    "model.save( path)"
   ]
  },
  {
   "cell_type": "code",
   "execution_count": null,
   "metadata": {
    "colab": {
     "base_uri": "https://localhost:8080/"
    },
    "id": "7b-njNQ-2z8K",
    "outputId": "0ae539aa-448c-4693-d528-a0210e78ce6d"
   },
   "outputs": [
    {
     "name": "stdout",
     "output_type": "stream",
     "text": [
      "WARNING:tensorflow:From <ipython-input-16-e4ade065aa26>:1: Model.evaluate_generator (from tensorflow.python.keras.engine.training) is deprecated and will be removed in a future version.\n",
      "Instructions for updating:\n",
      "Please use Model.evaluate, which supports generators.\n"
     ]
    },
    {
     "data": {
      "text/plain": [
       "[0.09029699116945267, 0.9866071343421936]"
      ]
     },
     "execution_count": 16,
     "metadata": {
      "tags": []
     },
     "output_type": "execute_result"
    }
   ],
   "source": [
    "model.evaluate_generator(train_generator)"
   ]
  },
  {
   "cell_type": "code",
   "execution_count": null,
   "metadata": {
    "colab": {
     "base_uri": "https://localhost:8080/"
    },
    "id": "-HvqHE576gWf",
    "outputId": "190e58b2-ddfb-4846-e8d8-efb84fbc540f"
   },
   "outputs": [
    {
     "data": {
      "text/plain": [
       "[0.09112244099378586, 0.9666666388511658]"
      ]
     },
     "execution_count": 17,
     "metadata": {
      "tags": []
     },
     "output_type": "execute_result"
    }
   ],
   "source": [
    "model.evaluate_generator(validation_generator)"
   ]
  },
  {
   "cell_type": "code",
   "execution_count": null,
   "metadata": {
    "id": "OcTMEyD16g95"
   },
   "outputs": [],
   "source": []
  },
  {
   "cell_type": "markdown",
   "metadata": {
    "id": "Yw-XA_bU8YmS"
   },
   "source": [
    "TEST"
   ]
  },
  {
   "cell_type": "code",
   "execution_count": 28,
   "metadata": {
    "id": "AmzRuyNQ6hWZ"
   },
   "outputs": [],
   "source": [
    "model=load_model(\"modelcovid.h5\")"
   ]
  },
  {
   "cell_type": "code",
   "execution_count": 14,
   "metadata": {
    "id": "UxE4JU9a8pbc"
   },
   "outputs": [],
   "source": [
    "import os"
   ]
  },
  {
   "cell_type": "code",
   "execution_count": 15,
   "metadata": {
    "colab": {
     "base_uri": "https://localhost:8080/"
    },
    "id": "fXO4skU48vUf",
    "outputId": "2016cc8d-d38f-4a68-960d-862de40d6c02"
   },
   "outputs": [
    {
     "data": {
      "text/plain": [
       "{'Covid': 0, 'Normal': 1}"
      ]
     },
     "execution_count": 15,
     "metadata": {},
     "output_type": "execute_result"
    }
   ],
   "source": [
    "train_generator.class_indices"
   ]
  },
  {
   "cell_type": "code",
   "execution_count": 16,
   "metadata": {
    "id": "zSg2HFDN8vvQ"
   },
   "outputs": [],
   "source": [
    "y_actual=[]\n",
    "y_test=[]"
   ]
  },
  {
   "cell_type": "code",
   "execution_count": 17,
   "metadata": {
    "colab": {
     "base_uri": "https://localhost:8080/",
     "height": 229
    },
    "id": "9rpAduzR8ylf",
    "outputId": "ab2a226e-c313-48f1-c0c1-f344985e9201"
   },
   "outputs": [
    {
     "name": "stdout",
     "output_type": "stream",
     "text": [
      "WARNING:tensorflow:From <ipython-input-17-308bfcdbfe82>:5: Sequential.predict_classes (from tensorflow.python.keras.engine.sequential) is deprecated and will be removed after 2021-01-01.\n",
      "Instructions for updating:\n",
      "Please use instead:* `np.argmax(model.predict(x), axis=-1)`,   if your model does multi-class classification   (e.g. if it uses a `softmax` last-layer activation).* `(model.predict(x) > 0.5).astype(\"int32\")`,   if your model does binary classification   (e.g. if it uses a `sigmoid` last-layer activation).\n"
     ]
    }
   ],
   "source": [
    "for i in os.listdir(\"./Coviddataset/Val/Normal/\"):\n",
    "    img = image.load_img(\"./CovidDataset/Val/Normal/\"+i, target_size=(224,224))\n",
    "    img=image.img_to_array(img)\n",
    "    img=np.expand_dims(img,axis=0)\n",
    "    p=model.predict_classes(img)\n",
    "    y_test.append(p[0,0])\n",
    "    y_actual.append(1)"
   ]
  },
  {
   "cell_type": "code",
   "execution_count": 18,
   "metadata": {
    "id": "5P_1GOED8zEa"
   },
   "outputs": [],
   "source": [
    "img = image.load_img(\"./CovidDataset/Val/Normal/\"+i, target_size=(224,224))"
   ]
  },
  {
   "cell_type": "code",
   "execution_count": null,
   "metadata": {
    "id": "4DwwHeIV8zXA"
   },
   "outputs": [],
   "source": []
  },
  {
   "cell_type": "code",
   "execution_count": null,
   "metadata": {
    "id": "76IF7brO8zsE"
   },
   "outputs": [],
   "source": []
  },
  {
   "cell_type": "code",
   "execution_count": null,
   "metadata": {
    "id": "m_gcGFMp80D8"
   },
   "outputs": [],
   "source": []
  },
  {
   "cell_type": "code",
   "execution_count": null,
   "metadata": {
    "id": "i6HuALF080YK"
   },
   "outputs": [],
   "source": []
  },
  {
   "cell_type": "markdown",
   "metadata": {
    "id": "dDBoumJf8wlW"
   },
   "source": []
  }
 ],
 "metadata": {
  "accelerator": "GPU",
  "colab": {
   "collapsed_sections": [],
   "name": "Covid19.ipynb",
   "provenance": []
  },
  "kernelspec": {
   "display_name": "Python 3",
   "language": "python",
   "name": "python3"
  },
  "language_info": {
   "codemirror_mode": {
    "name": "ipython",
    "version": 3
   },
   "file_extension": ".py",
   "mimetype": "text/x-python",
   "name": "python",
   "nbconvert_exporter": "python",
   "pygments_lexer": "ipython3",
   "version": "3.8.3"
  }
 },
 "nbformat": 4,
 "nbformat_minor": 1
}
